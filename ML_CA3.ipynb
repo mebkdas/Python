{
  "nbformat": 4,
  "nbformat_minor": 0,
  "metadata": {
    "colab": {
      "name": "ML_CA3.ipynb",
      "provenance": [],
      "collapsed_sections": [],
      "authorship_tag": "ABX9TyNseyuuBHZzzYMmp2sYCeEr",
      "include_colab_link": true
    },
    "kernelspec": {
      "name": "python3",
      "display_name": "Python 3"
    }
  },
  "cells": [
    {
      "cell_type": "markdown",
      "metadata": {
        "id": "view-in-github",
        "colab_type": "text"
      },
      "source": [
        "<a href=\"https://colab.research.google.com/github/mebkdas/Python/blob/master/ML_CA3.ipynb\" target=\"_parent\"><img src=\"https://colab.research.google.com/assets/colab-badge.svg\" alt=\"Open In Colab\"/></a>"
      ]
    },
    {
      "cell_type": "markdown",
      "metadata": {
        "id": "A68J8Vghns7f"
      },
      "source": [
        "**Import Libraries**"
      ]
    },
    {
      "cell_type": "code",
      "metadata": {
        "id": "qYnhDcTiysIg"
      },
      "source": [
        "import pandas as pd\n",
        "import numpy as np\n",
        "import io \n",
        "import matplotlib.pyplot as plt\n",
        "%matplotlib inline\n",
        "from sklearn import svm\n",
        "import seaborn as sns"
      ],
      "execution_count": 1,
      "outputs": []
    },
    {
      "cell_type": "markdown",
      "metadata": {
        "id": "7K206_ZqoEhn"
      },
      "source": [
        "**Import Dataset and Create Header**"
      ]
    },
    {
      "cell_type": "code",
      "metadata": {
        "id": "NGLJcvuVn5mL",
        "outputId": "267ea948-f580-4c94-f7bb-57ccbf0f54e3",
        "colab": {
          "base_uri": "https://localhost:8080/",
          "height": 212
        }
      },
      "source": [
        "df = pd.read_csv('https://archive.ics.uci.edu/ml/machine-learning-databases/cpu-performance/machine.data')\n",
        "\n",
        "#Creating Header for the dataset\n",
        "header = [\"Vendor-Name\",\"Model-Name\",\"MYCT\",\"MMIN\",\"MMAX\",\"CACH\",\"CHMIN\",\"CHMAX\",\"PRP\",\"ERP\"]\n",
        "\n",
        "df.columns = header\n",
        "\n",
        "#first 5 rows\n",
        "print(\"First 5 rows of my dataset is : \")\n",
        "df.head()"
      ],
      "execution_count": 2,
      "outputs": [
        {
          "output_type": "stream",
          "text": [
            "First 5 rows of my dataset is : \n"
          ],
          "name": "stdout"
        },
        {
          "output_type": "execute_result",
          "data": {
            "text/html": [
              "<div>\n",
              "<style scoped>\n",
              "    .dataframe tbody tr th:only-of-type {\n",
              "        vertical-align: middle;\n",
              "    }\n",
              "\n",
              "    .dataframe tbody tr th {\n",
              "        vertical-align: top;\n",
              "    }\n",
              "\n",
              "    .dataframe thead th {\n",
              "        text-align: right;\n",
              "    }\n",
              "</style>\n",
              "<table border=\"1\" class=\"dataframe\">\n",
              "  <thead>\n",
              "    <tr style=\"text-align: right;\">\n",
              "      <th></th>\n",
              "      <th>Vendor-Name</th>\n",
              "      <th>Model-Name</th>\n",
              "      <th>MYCT</th>\n",
              "      <th>MMIN</th>\n",
              "      <th>MMAX</th>\n",
              "      <th>CACH</th>\n",
              "      <th>CHMIN</th>\n",
              "      <th>CHMAX</th>\n",
              "      <th>PRP</th>\n",
              "      <th>ERP</th>\n",
              "    </tr>\n",
              "  </thead>\n",
              "  <tbody>\n",
              "    <tr>\n",
              "      <th>0</th>\n",
              "      <td>amdahl</td>\n",
              "      <td>470v/7</td>\n",
              "      <td>29</td>\n",
              "      <td>8000</td>\n",
              "      <td>32000</td>\n",
              "      <td>32</td>\n",
              "      <td>8</td>\n",
              "      <td>32</td>\n",
              "      <td>269</td>\n",
              "      <td>253</td>\n",
              "    </tr>\n",
              "    <tr>\n",
              "      <th>1</th>\n",
              "      <td>amdahl</td>\n",
              "      <td>470v/7a</td>\n",
              "      <td>29</td>\n",
              "      <td>8000</td>\n",
              "      <td>32000</td>\n",
              "      <td>32</td>\n",
              "      <td>8</td>\n",
              "      <td>32</td>\n",
              "      <td>220</td>\n",
              "      <td>253</td>\n",
              "    </tr>\n",
              "    <tr>\n",
              "      <th>2</th>\n",
              "      <td>amdahl</td>\n",
              "      <td>470v/7b</td>\n",
              "      <td>29</td>\n",
              "      <td>8000</td>\n",
              "      <td>32000</td>\n",
              "      <td>32</td>\n",
              "      <td>8</td>\n",
              "      <td>32</td>\n",
              "      <td>172</td>\n",
              "      <td>253</td>\n",
              "    </tr>\n",
              "    <tr>\n",
              "      <th>3</th>\n",
              "      <td>amdahl</td>\n",
              "      <td>470v/7c</td>\n",
              "      <td>29</td>\n",
              "      <td>8000</td>\n",
              "      <td>16000</td>\n",
              "      <td>32</td>\n",
              "      <td>8</td>\n",
              "      <td>16</td>\n",
              "      <td>132</td>\n",
              "      <td>132</td>\n",
              "    </tr>\n",
              "    <tr>\n",
              "      <th>4</th>\n",
              "      <td>amdahl</td>\n",
              "      <td>470v/b</td>\n",
              "      <td>26</td>\n",
              "      <td>8000</td>\n",
              "      <td>32000</td>\n",
              "      <td>64</td>\n",
              "      <td>8</td>\n",
              "      <td>32</td>\n",
              "      <td>318</td>\n",
              "      <td>290</td>\n",
              "    </tr>\n",
              "  </tbody>\n",
              "</table>\n",
              "</div>"
            ],
            "text/plain": [
              "  Vendor-Name Model-Name  MYCT  MMIN   MMAX  CACH  CHMIN  CHMAX  PRP  ERP\n",
              "0      amdahl     470v/7    29  8000  32000    32      8     32  269  253\n",
              "1      amdahl    470v/7a    29  8000  32000    32      8     32  220  253\n",
              "2      amdahl    470v/7b    29  8000  32000    32      8     32  172  253\n",
              "3      amdahl    470v/7c    29  8000  16000    32      8     16  132  132\n",
              "4      amdahl     470v/b    26  8000  32000    64      8     32  318  290"
            ]
          },
          "metadata": {
            "tags": []
          },
          "execution_count": 2
        }
      ]
    },
    {
      "cell_type": "markdown",
      "metadata": {
        "id": "DeYoY_22XOTy"
      },
      "source": [
        "**Data Preprocessing**"
      ]
    },
    {
      "cell_type": "code",
      "metadata": {
        "id": "CKPWljWJzW8W",
        "outputId": "a45ed23c-cee4-407b-a915-b426095f262c",
        "colab": {
          "base_uri": "https://localhost:8080/",
          "height": 284
        }
      },
      "source": [
        "df.describe()"
      ],
      "execution_count": 3,
      "outputs": [
        {
          "output_type": "execute_result",
          "data": {
            "text/html": [
              "<div>\n",
              "<style scoped>\n",
              "    .dataframe tbody tr th:only-of-type {\n",
              "        vertical-align: middle;\n",
              "    }\n",
              "\n",
              "    .dataframe tbody tr th {\n",
              "        vertical-align: top;\n",
              "    }\n",
              "\n",
              "    .dataframe thead th {\n",
              "        text-align: right;\n",
              "    }\n",
              "</style>\n",
              "<table border=\"1\" class=\"dataframe\">\n",
              "  <thead>\n",
              "    <tr style=\"text-align: right;\">\n",
              "      <th></th>\n",
              "      <th>MYCT</th>\n",
              "      <th>MMIN</th>\n",
              "      <th>MMAX</th>\n",
              "      <th>CACH</th>\n",
              "      <th>CHMIN</th>\n",
              "      <th>CHMAX</th>\n",
              "      <th>PRP</th>\n",
              "      <th>ERP</th>\n",
              "    </tr>\n",
              "  </thead>\n",
              "  <tbody>\n",
              "    <tr>\n",
              "      <th>count</th>\n",
              "      <td>208.000000</td>\n",
              "      <td>208.000000</td>\n",
              "      <td>208.000000</td>\n",
              "      <td>208.000000</td>\n",
              "      <td>208.000000</td>\n",
              "      <td>208.000000</td>\n",
              "      <td>208.000000</td>\n",
              "      <td>208.000000</td>\n",
              "    </tr>\n",
              "    <tr>\n",
              "      <th>mean</th>\n",
              "      <td>204.201923</td>\n",
              "      <td>2880.538462</td>\n",
              "      <td>11824.019231</td>\n",
              "      <td>24.096154</td>\n",
              "      <td>4.644231</td>\n",
              "      <td>17.740385</td>\n",
              "      <td>105.177885</td>\n",
              "      <td>98.850962</td>\n",
              "    </tr>\n",
              "    <tr>\n",
              "      <th>std</th>\n",
              "      <td>260.833016</td>\n",
              "      <td>3883.839300</td>\n",
              "      <td>11747.916663</td>\n",
              "      <td>37.417999</td>\n",
              "      <td>6.787198</td>\n",
              "      <td>24.913375</td>\n",
              "      <td>161.090223</td>\n",
              "      <td>154.974961</td>\n",
              "    </tr>\n",
              "    <tr>\n",
              "      <th>min</th>\n",
              "      <td>17.000000</td>\n",
              "      <td>64.000000</td>\n",
              "      <td>64.000000</td>\n",
              "      <td>0.000000</td>\n",
              "      <td>0.000000</td>\n",
              "      <td>0.000000</td>\n",
              "      <td>6.000000</td>\n",
              "      <td>15.000000</td>\n",
              "    </tr>\n",
              "    <tr>\n",
              "      <th>25%</th>\n",
              "      <td>50.000000</td>\n",
              "      <td>768.000000</td>\n",
              "      <td>4000.000000</td>\n",
              "      <td>0.000000</td>\n",
              "      <td>1.000000</td>\n",
              "      <td>5.000000</td>\n",
              "      <td>27.000000</td>\n",
              "      <td>28.000000</td>\n",
              "    </tr>\n",
              "    <tr>\n",
              "      <th>50%</th>\n",
              "      <td>110.000000</td>\n",
              "      <td>2000.000000</td>\n",
              "      <td>8000.000000</td>\n",
              "      <td>8.000000</td>\n",
              "      <td>2.000000</td>\n",
              "      <td>8.000000</td>\n",
              "      <td>49.500000</td>\n",
              "      <td>45.000000</td>\n",
              "    </tr>\n",
              "    <tr>\n",
              "      <th>75%</th>\n",
              "      <td>225.000000</td>\n",
              "      <td>4000.000000</td>\n",
              "      <td>16000.000000</td>\n",
              "      <td>32.000000</td>\n",
              "      <td>6.000000</td>\n",
              "      <td>24.000000</td>\n",
              "      <td>111.500000</td>\n",
              "      <td>99.500000</td>\n",
              "    </tr>\n",
              "    <tr>\n",
              "      <th>max</th>\n",
              "      <td>1500.000000</td>\n",
              "      <td>32000.000000</td>\n",
              "      <td>64000.000000</td>\n",
              "      <td>256.000000</td>\n",
              "      <td>52.000000</td>\n",
              "      <td>176.000000</td>\n",
              "      <td>1150.000000</td>\n",
              "      <td>1238.000000</td>\n",
              "    </tr>\n",
              "  </tbody>\n",
              "</table>\n",
              "</div>"
            ],
            "text/plain": [
              "              MYCT          MMIN  ...          PRP          ERP\n",
              "count   208.000000    208.000000  ...   208.000000   208.000000\n",
              "mean    204.201923   2880.538462  ...   105.177885    98.850962\n",
              "std     260.833016   3883.839300  ...   161.090223   154.974961\n",
              "min      17.000000     64.000000  ...     6.000000    15.000000\n",
              "25%      50.000000    768.000000  ...    27.000000    28.000000\n",
              "50%     110.000000   2000.000000  ...    49.500000    45.000000\n",
              "75%     225.000000   4000.000000  ...   111.500000    99.500000\n",
              "max    1500.000000  32000.000000  ...  1150.000000  1238.000000\n",
              "\n",
              "[8 rows x 8 columns]"
            ]
          },
          "metadata": {
            "tags": []
          },
          "execution_count": 3
        }
      ]
    },
    {
      "cell_type": "code",
      "metadata": {
        "id": "8-9bmpy00q-v",
        "outputId": "fb9b3a73-4680-43f5-abd6-94314f7bcacd",
        "colab": {
          "base_uri": "https://localhost:8080/"
        }
      },
      "source": [
        "df.replace(\"?\",np.nan,inplace= True)\n",
        "\n",
        "missing_data = df.isnull()\n",
        "missing_data\n",
        "\n",
        "print(\"Missing values in the dataset:\",df.isnull().sum().max())"
      ],
      "execution_count": 4,
      "outputs": [
        {
          "output_type": "stream",
          "text": [
            "Missing values in the dataset: 0\n"
          ],
          "name": "stdout"
        }
      ]
    },
    {
      "cell_type": "markdown",
      "metadata": {
        "id": "6ZwPxG-GAprI"
      },
      "source": [
        "**Observations:**\n",
        "1.   There are no missing values in the dataset.\n",
        "2.   There are 2 Categorical variables\n",
        "*    Vendor,Model\n",
        "3.   There are 8 Numerical variables\n",
        "*    MYCT,MMIN,MMAX,CACH,CHMIN,CHMAX,PRP,ERP"
      ]
    },
    {
      "cell_type": "markdown",
      "metadata": {
        "id": "DohhH0ClPfz9"
      },
      "source": [
        "**Apply SVM Algo**"
      ]
    },
    {
      "cell_type": "code",
      "metadata": {
        "id": "QXQ_QMXZOdSQ"
      },
      "source": [
        "MMIN_df = df[df['MMIN']==2000][0:207]\n",
        "MMAX_df = df[df['MMAX']==8000][0:207]"
      ],
      "execution_count": 5,
      "outputs": []
    },
    {
      "cell_type": "code",
      "metadata": {
        "id": "1wAI5TpQOdSd",
        "outputId": "2425b26e-e17e-4b9f-baa5-a6e1a6b50f58",
        "colab": {
          "base_uri": "https://localhost:8080/",
          "height": 296
        }
      },
      "source": [
        "axes = MMAX_df.plot(kind='scatter', x='ERP', y='PRP', color='blue', label='PRP')\n",
        "MMIN_df.plot(kind='scatter', x='ERP', y='PRP', color='red', label='ERP', ax=axes)"
      ],
      "execution_count": 6,
      "outputs": [
        {
          "output_type": "execute_result",
          "data": {
            "text/plain": [
              "<matplotlib.axes._subplots.AxesSubplot at 0x7f5f0030efd0>"
            ]
          },
          "metadata": {
            "tags": []
          },
          "execution_count": 6
        },
        {
          "output_type": "display_data",
          "data": {
            "image/png": "[encoded data removed]",
            "text/plain": [
              "<Figure size 432x288 with 1 Axes>"
            ]
          },
          "metadata": {
            "tags": [],
            "needs_background": "light"
          }
        }
      ]
    },
    {
      "cell_type": "code",
      "metadata": {
        "id": "YaEAJcz_Pk5A",
        "outputId": "c3280e65-753a-44ff-eae8-ee8e30d8b26f",
        "colab": {
          "base_uri": "https://localhost:8080/"
        }
      },
      "source": [
        "feature_df = df[['MYCT', 'MMIN', 'MMAX', 'CHMIN','CHMAX', 'PRP', 'ERP']]\n",
        "#Independent Var\n",
        "X=np.asarray(feature_df)\n",
        "#dependent Var\n",
        "y=np.asarray(df['CACH'])\n",
        "print(\"X= \" , X[0:5])\n",
        "print(\"Y= \" , y[0:5])"
      ],
      "execution_count": 7,
      "outputs": [
        {
          "output_type": "stream",
          "text": [
            "X=  [[   29  8000 32000     8    32   269   253]\n",
            " [   29  8000 32000     8    32   220   253]\n",
            " [   29  8000 32000     8    32   172   253]\n",
            " [   29  8000 16000     8    16   132   132]\n",
            " [   26  8000 32000     8    32   318   290]]\n",
            "Y=  [32 32 32 32 64]\n"
          ],
          "name": "stdout"
        }
      ]
    },
    {
      "cell_type": "code",
      "metadata": {
        "id": "0Q0ECjCVQNgG",
        "outputId": "6082fbad-c02a-4508-f2a8-6a4c73445345",
        "colab": {
          "base_uri": "https://localhost:8080/"
        }
      },
      "source": [
        "#we will divide data in train part and divide part\n",
        "from sklearn.model_selection import train_test_split\n",
        "X_train, X_test, y_train, y_test = train_test_split(X,y,test_size=0.2, random_state=4)\n",
        "print(X_train.shape)\n",
        "print(X_test.shape)\n",
        "print(y_train.shape)\n",
        "print(y_test.shape)"
      ],
      "execution_count": 8,
      "outputs": [
        {
          "output_type": "stream",
          "text": [
            "(166, 7)\n",
            "(42, 7)\n",
            "(166,)\n",
            "(42,)\n"
          ],
          "name": "stdout"
        }
      ]
    },
    {
      "cell_type": "code",
      "metadata": {
        "id": "vdL9cZ60QV8Y"
      },
      "source": [
        "svc = svm.SVC(kernel='linear', C=2, gamma='auto').fit(X_train, y_train)\n",
        "svc.fit(X_train, y_train)\n",
        "y_predict = svc.predict(X_test)"
      ],
      "execution_count": 10,
      "outputs": []
    },
    {
      "cell_type": "code",
      "metadata": {
        "id": "_L2ciAmVQZr8",
        "outputId": "4934e932-2d2b-44de-9fc7-20890deee424",
        "colab": {
          "base_uri": "https://localhost:8080/"
        }
      },
      "source": [
        "from sklearn.metrics import classification_report\n",
        "print(classification_report(y_test,y_predict))"
      ],
      "execution_count": 11,
      "outputs": [
        {
          "output_type": "stream",
          "text": [
            "              precision    recall  f1-score   support\n",
            "\n",
            "           0       0.38      0.89      0.53         9\n",
            "           1       0.00      0.00      0.00         1\n",
            "           2       0.00      0.00      0.00         2\n",
            "           4       0.00      0.00      0.00         1\n",
            "           6       0.00      0.00      0.00         1\n",
            "           8       0.00      0.00      0.00         9\n",
            "          16       0.00      0.00      0.00         1\n",
            "          24       1.00      0.67      0.80         3\n",
            "          30       0.00      0.00      0.00         2\n",
            "          32       0.62      0.83      0.71         6\n",
            "          48       0.00      0.00      0.00         1\n",
            "          64       0.33      0.50      0.40         2\n",
            "          65       0.00      0.00      0.00         1\n",
            "         112       0.33      1.00      0.50         1\n",
            "         128       0.00      0.00      0.00         1\n",
            "         142       0.00      0.00      0.00         1\n",
            "\n",
            "    accuracy                           0.40        42\n",
            "   macro avg       0.17      0.24      0.18        42\n",
            "weighted avg       0.27      0.40      0.30        42\n",
            "\n"
          ],
          "name": "stdout"
        },
        {
          "output_type": "stream",
          "text": [
            "/usr/local/lib/python3.6/dist-packages/sklearn/metrics/_classification.py:1272: UndefinedMetricWarning: Precision and F-score are ill-defined and being set to 0.0 in labels with no predicted samples. Use `zero_division` parameter to control this behavior.\n",
            "  _warn_prf(average, modifier, msg_start, len(result))\n"
          ],
          "name": "stderr"
        }
      ]
    }
  ]
}